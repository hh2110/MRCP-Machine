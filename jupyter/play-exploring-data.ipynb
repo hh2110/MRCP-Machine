{
 "cells": [
  {
   "cell_type": "code",
   "execution_count": 2,
   "metadata": {},
   "outputs": [],
   "source": [
    "import pandas as pd"
   ]
  },
  {
   "cell_type": "code",
   "execution_count": 3,
   "metadata": {},
   "outputs": [],
   "source": [
    "allDataPath = '../Data/full-cleaned-pandas-ready-data-set.csv'\n",
    "allData = pd.read_csv(allDataPath, index_col='index')"
   ]
  },
  {
   "cell_type": "code",
   "execution_count": 6,
   "metadata": {
    "scrolled": true
   },
   "outputs": [
    {
     "data": {
      "text/plain": [
       "questionDescription    A 65 year old woman presents with dysphagia an...\n",
       "question               Which of the following medical therapies is mo...\n",
       "options                {'1': 'Diltiazem', '2': 'Bismuth', '3': 'Glyce...\n",
       "answer                  Answer & Comments Answer: 4- Botulinum toxin ...\n",
       "qNumber                                                               11\n",
       "qOrigin                                                          MRCPass\n",
       "qTopic                                                  Gastroenterology\n",
       "answerNumber                                                           4\n",
       "answerDescription       Answer & Comments Answer: 4- Botulinum toxin ...\n",
       "file                                                                   1\n",
       "option1                                                        Diltiazem\n",
       "option2                                                          Bismuth\n",
       "option3                                              Glyceryl trinitrate\n",
       "option4                                                  Botulinum toxin\n",
       "option5                                                       Glypressin\n",
       "Name: 11, dtype: object"
      ]
     },
     "execution_count": 6,
     "metadata": {},
     "output_type": "execute_result"
    }
   ],
   "source": [
    "allData.iloc[10]"
   ]
  },
  {
   "cell_type": "code",
   "execution_count": 5,
   "metadata": {},
   "outputs": [
    {
     "name": "stdout",
     "output_type": "stream",
     "text": [
      "14186\n"
     ]
    },
    {
     "data": {
      "text/plain": [
       "Past paper               1626\n",
       "Endocrinology            1286\n",
       "Basic Science            1241\n",
       "Cardiology               1120\n",
       "Neurology                1009\n",
       "Respiratory               952\n",
       "Rheumatology              952\n",
       "Gastroenterology          925\n",
       "Haematology               912\n",
       "Nephrology                791\n",
       "Infectious disease        692\n",
       "Clinical pharmacology     664\n",
       "Psychiatry                469\n",
       "Dermatology               363\n",
       "Statistics                261\n",
       "Ophthalmology             201\n",
       "General revision          136\n",
       "Misc                      132\n",
       "Tropical medicine         119\n",
       "Emergency medicine        111\n",
       "Pharmacology               98\n",
       "Emergency Medicine         54\n",
       "Medicine                   46\n",
       "Ethics and law             26\n",
       "Name: qTopic, dtype: int64"
      ]
     },
     "execution_count": 5,
     "metadata": {},
     "output_type": "execute_result"
    }
   ],
   "source": [
    "# may be good to classify questions - at the moment\n",
    "print(len(allData))\n",
    "allData.qTopic.value_counts()\n"
   ]
  },
  {
   "cell_type": "code",
   "execution_count": null,
   "metadata": {},
   "outputs": [],
   "source": []
  }
 ],
 "metadata": {
  "kernelspec": {
   "display_name": "Python 3",
   "language": "python",
   "name": "python3"
  },
  "language_info": {
   "codemirror_mode": {
    "name": "ipython",
    "version": 3
   },
   "file_extension": ".py",
   "mimetype": "text/x-python",
   "name": "python",
   "nbconvert_exporter": "python",
   "pygments_lexer": "ipython3",
   "version": "3.7.4"
  }
 },
 "nbformat": 4,
 "nbformat_minor": 2
}

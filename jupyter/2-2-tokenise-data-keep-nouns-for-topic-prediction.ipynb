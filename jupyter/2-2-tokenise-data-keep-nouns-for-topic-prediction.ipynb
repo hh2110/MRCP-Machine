{
 "cells": [
  {
   "cell_type": "markdown",
   "metadata": {},
   "source": [
    "- tokenising dataframe\n",
    "- only choose those columns that are believed to make a difference to classification of topic given a question\n",
    "- removed all non-alphabet characters\n",
    "\n",
    "- REMOVING ALL non-noun words to leave ONLY NOUNS"
   ]
  },
  {
   "cell_type": "code",
   "execution_count": null,
   "metadata": {},
   "outputs": [],
   "source": []
  },
  {
   "cell_type": "code",
   "execution_count": 1,
   "metadata": {},
   "outputs": [],
   "source": [
    "import pandas as pd\n",
    "from nltk.probability import FreqDist\n",
    "import matplotlib.pyplot as plt\n",
    "from nltk.tokenize import sent_tokenize, word_tokenize\n",
    "from nltk.corpus import stopwords\n",
    "import string\n",
    "import numpy as np\n",
    "import re\n",
    "import spacy\n",
    "from collections import Counter\n",
    "nlp = spacy.load('en_core_web_sm')"
   ]
  },
  {
   "cell_type": "code",
   "execution_count": 2,
   "metadata": {},
   "outputs": [],
   "source": [
    "allDataPath = '../Data/full-cleaned-pandas-ready-data-set.csv'\n",
    "allData = pd.read_csv(allDataPath, index_col='index')"
   ]
  },
  {
   "cell_type": "code",
   "execution_count": 3,
   "metadata": {},
   "outputs": [
    {
     "data": {
      "text/html": [
       "<div>\n",
       "<style scoped>\n",
       "    .dataframe tbody tr th:only-of-type {\n",
       "        vertical-align: middle;\n",
       "    }\n",
       "\n",
       "    .dataframe tbody tr th {\n",
       "        vertical-align: top;\n",
       "    }\n",
       "\n",
       "    .dataframe thead th {\n",
       "        text-align: right;\n",
       "    }\n",
       "</style>\n",
       "<table border=\"1\" class=\"dataframe\">\n",
       "  <thead>\n",
       "    <tr style=\"text-align: right;\">\n",
       "      <th></th>\n",
       "      <th>questionDescription</th>\n",
       "      <th>question</th>\n",
       "      <th>options</th>\n",
       "      <th>answer</th>\n",
       "      <th>qNumber</th>\n",
       "      <th>qOrigin</th>\n",
       "      <th>qTopic</th>\n",
       "      <th>answerNumber</th>\n",
       "      <th>answerDescription</th>\n",
       "      <th>file</th>\n",
       "      <th>option1</th>\n",
       "      <th>option2</th>\n",
       "      <th>option3</th>\n",
       "      <th>option4</th>\n",
       "      <th>option5</th>\n",
       "    </tr>\n",
       "    <tr>\n",
       "      <th>index</th>\n",
       "      <th></th>\n",
       "      <th></th>\n",
       "      <th></th>\n",
       "      <th></th>\n",
       "      <th></th>\n",
       "      <th></th>\n",
       "      <th></th>\n",
       "      <th></th>\n",
       "      <th></th>\n",
       "      <th></th>\n",
       "      <th></th>\n",
       "      <th></th>\n",
       "      <th></th>\n",
       "      <th></th>\n",
       "      <th></th>\n",
       "    </tr>\n",
       "  </thead>\n",
       "  <tbody>\n",
       "    <tr>\n",
       "      <td>13321</td>\n",
       "      <td>A five year old boy is brought to the GP after...</td>\n",
       "      <td>What is the most likely diagnosis?</td>\n",
       "      <td>{'1': 'Herpes Simplex virus', '2': 'Lichen Pla...</td>\n",
       "      <td>Answer &amp; Comments Answer: 4- Molluscum Contag...</td>\n",
       "      <td>577.0</td>\n",
       "      <td>ReviseMRCP</td>\n",
       "      <td>Dermatology</td>\n",
       "      <td>4.0</td>\n",
       "      <td>Answer &amp; Comments Answer: 4- Molluscum Contag...</td>\n",
       "      <td>5</td>\n",
       "      <td>Herpes Simplex virus</td>\n",
       "      <td>Lichen Planus</td>\n",
       "      <td>Spitz Naevus</td>\n",
       "      <td>Molluscum Contagiosum</td>\n",
       "      <td>Warts</td>\n",
       "    </tr>\n",
       "    <tr>\n",
       "      <td>7690</td>\n",
       "      <td>A patient has been complaining of a 2-month hi...</td>\n",
       "      <td>what would be the most appropriate investigation?</td>\n",
       "      <td>{'1': 'Dexamethasone suppression test', '2': '...</td>\n",
       "      <td>Answer &amp; Comments Answer: 3- Urinary 5-hydrox...</td>\n",
       "      <td>631.0</td>\n",
       "      <td>PasTest 2009</td>\n",
       "      <td>Endocrinology</td>\n",
       "      <td>3.0</td>\n",
       "      <td>Answer &amp; Comments Answer: 3- Urinary 5-hydrox...</td>\n",
       "      <td>4</td>\n",
       "      <td>Dexamethasone suppression test</td>\n",
       "      <td>Urinary catecholamine collection</td>\n",
       "      <td>Urinary 5-hydroxyindoleacetic acid collection</td>\n",
       "      <td>Abdominal ultrasound</td>\n",
       "      <td>24-hour ambulatory blood pressure recording</td>\n",
       "    </tr>\n",
       "  </tbody>\n",
       "</table>\n",
       "</div>"
      ],
      "text/plain": [
       "                                     questionDescription  \\\n",
       "index                                                      \n",
       "13321  A five year old boy is brought to the GP after...   \n",
       "7690   A patient has been complaining of a 2-month hi...   \n",
       "\n",
       "                                                question  \\\n",
       "index                                                      \n",
       "13321                 What is the most likely diagnosis?   \n",
       "7690   what would be the most appropriate investigation?   \n",
       "\n",
       "                                                 options  \\\n",
       "index                                                      \n",
       "13321  {'1': 'Herpes Simplex virus', '2': 'Lichen Pla...   \n",
       "7690   {'1': 'Dexamethasone suppression test', '2': '...   \n",
       "\n",
       "                                                  answer  qNumber  \\\n",
       "index                                                               \n",
       "13321   Answer & Comments Answer: 4- Molluscum Contag...    577.0   \n",
       "7690    Answer & Comments Answer: 3- Urinary 5-hydrox...    631.0   \n",
       "\n",
       "            qOrigin         qTopic  answerNumber  \\\n",
       "index                                              \n",
       "13321    ReviseMRCP    Dermatology           4.0   \n",
       "7690   PasTest 2009  Endocrinology           3.0   \n",
       "\n",
       "                                       answerDescription  file  \\\n",
       "index                                                            \n",
       "13321   Answer & Comments Answer: 4- Molluscum Contag...     5   \n",
       "7690    Answer & Comments Answer: 3- Urinary 5-hydrox...     4   \n",
       "\n",
       "                              option1                           option2  \\\n",
       "index                                                                     \n",
       "13321            Herpes Simplex virus                     Lichen Planus   \n",
       "7690   Dexamethasone suppression test  Urinary catecholamine collection   \n",
       "\n",
       "                                             option3                option4  \\\n",
       "index                                                                         \n",
       "13321                                   Spitz Naevus  Molluscum Contagiosum   \n",
       "7690   Urinary 5-hydroxyindoleacetic acid collection   Abdominal ultrasound   \n",
       "\n",
       "                                           option5  \n",
       "index                                               \n",
       "13321                                        Warts  \n",
       "7690   24-hour ambulatory blood pressure recording  "
      ]
     },
     "execution_count": 3,
     "metadata": {},
     "output_type": "execute_result"
    }
   ],
   "source": [
    "allData.sample(2)"
   ]
  },
  {
   "cell_type": "code",
   "execution_count": null,
   "metadata": {},
   "outputs": [],
   "source": []
  },
  {
   "cell_type": "code",
   "execution_count": null,
   "metadata": {},
   "outputs": [],
   "source": []
  },
  {
   "cell_type": "code",
   "execution_count": null,
   "metadata": {},
   "outputs": [],
   "source": []
  },
  {
   "cell_type": "markdown",
   "metadata": {},
   "source": [
    "## create tokenised version of allData df wihtout nouns!"
   ]
  },
  {
   "cell_type": "code",
   "execution_count": 4,
   "metadata": {},
   "outputs": [],
   "source": [
    "joinedDf = pd.DataFrame()\n",
    "joinedDf['text'] = allData['questionDescription']+allData['answerDescription']\n",
    "\n",
    "# lower the case of everything\n",
    "joinedDf = joinedDf.apply(lambda x: x.astype(str).str.lower())\n",
    "\n",
    "joinedDf['topic']=allData.qTopic"
   ]
  },
  {
   "cell_type": "code",
   "execution_count": 5,
   "metadata": {},
   "outputs": [],
   "source": [
    "lemma = []\n",
    "pos = []\n",
    "token = []\n",
    "for doc in nlp.pipe(joinedDf['text'].astype('unicode').values, batch_size=50,\n",
    "                        n_threads=4):\n",
    "    if doc.is_parsed:\n",
    "        token.append([n.text for n in doc])\n",
    "        lemma.append([n.lemma_ for n in doc])\n",
    "        pos.append([n.pos_ for n in doc])\n",
    "    else:\n",
    "        # We want to make sure that the lists of parsed results have the\n",
    "        # same number of entries of the original Dataframe, so add some blanks in case the parse fails\n",
    "        lemma.append(None)\n",
    "        pos.append(None)\n",
    "        token.append(None)\n",
    "\n",
    "joinedDf['textLemma'] = lemma\n",
    "joinedDf['textPos'] = pos\n",
    "joinedDf['textToken'] = token"
   ]
  },
  {
   "cell_type": "code",
   "execution_count": 6,
   "metadata": {},
   "outputs": [
    {
     "data": {
      "text/html": [
       "<div>\n",
       "<style scoped>\n",
       "    .dataframe tbody tr th:only-of-type {\n",
       "        vertical-align: middle;\n",
       "    }\n",
       "\n",
       "    .dataframe tbody tr th {\n",
       "        vertical-align: top;\n",
       "    }\n",
       "\n",
       "    .dataframe thead th {\n",
       "        text-align: right;\n",
       "    }\n",
       "</style>\n",
       "<table border=\"1\" class=\"dataframe\">\n",
       "  <thead>\n",
       "    <tr style=\"text-align: right;\">\n",
       "      <th></th>\n",
       "      <th>text</th>\n",
       "      <th>topic</th>\n",
       "      <th>textLemma</th>\n",
       "      <th>textPos</th>\n",
       "      <th>textToken</th>\n",
       "    </tr>\n",
       "    <tr>\n",
       "      <th>index</th>\n",
       "      <th></th>\n",
       "      <th></th>\n",
       "      <th></th>\n",
       "      <th></th>\n",
       "      <th></th>\n",
       "    </tr>\n",
       "  </thead>\n",
       "  <tbody>\n",
       "    <tr>\n",
       "      <td>6549</td>\n",
       "      <td>a 55-year-old woman with multiple sclerosis is...</td>\n",
       "      <td>Neurology</td>\n",
       "      <td>[a, 55-year, -, old, woman, with, multiple, sc...</td>\n",
       "      <td>[DET, NUM, PUNCT, ADJ, NOUN, ADP, ADJ, NOUN, A...</td>\n",
       "      <td>[a, 55-year, -, old, woman, with, multiple, sc...</td>\n",
       "    </tr>\n",
       "    <tr>\n",
       "      <td>11060</td>\n",
       "      <td>nan</td>\n",
       "      <td>Psychiatry</td>\n",
       "      <td>[nan]</td>\n",
       "      <td>[PROPN]</td>\n",
       "      <td>[nan]</td>\n",
       "    </tr>\n",
       "    <tr>\n",
       "      <td>5743</td>\n",
       "      <td>a 40-year-old woman presents with a year histo...</td>\n",
       "      <td>Rheumatology</td>\n",
       "      <td>[a, 40-year, -, old, woman, present, with, a, ...</td>\n",
       "      <td>[DET, NUM, PUNCT, ADJ, NOUN, VERB, ADP, DET, N...</td>\n",
       "      <td>[a, 40-year, -, old, woman, presents, with, a,...</td>\n",
       "    </tr>\n",
       "    <tr>\n",
       "      <td>13197</td>\n",
       "      <td>a 63 year old woman has been referred for revi...</td>\n",
       "      <td>Cardiology</td>\n",
       "      <td>[a, 63, year, old, woman, have, be, refer, for...</td>\n",
       "      <td>[DET, NUM, NOUN, ADJ, NOUN, AUX, AUX, VERB, AD...</td>\n",
       "      <td>[a, 63, year, old, woman, has, been, referred,...</td>\n",
       "    </tr>\n",
       "  </tbody>\n",
       "</table>\n",
       "</div>"
      ],
      "text/plain": [
       "                                                    text         topic  \\\n",
       "index                                                                    \n",
       "6549   a 55-year-old woman with multiple sclerosis is...     Neurology   \n",
       "11060                                                nan    Psychiatry   \n",
       "5743   a 40-year-old woman presents with a year histo...  Rheumatology   \n",
       "13197  a 63 year old woman has been referred for revi...    Cardiology   \n",
       "\n",
       "                                               textLemma  \\\n",
       "index                                                      \n",
       "6549   [a, 55-year, -, old, woman, with, multiple, sc...   \n",
       "11060                                              [nan]   \n",
       "5743   [a, 40-year, -, old, woman, present, with, a, ...   \n",
       "13197  [a, 63, year, old, woman, have, be, refer, for...   \n",
       "\n",
       "                                                 textPos  \\\n",
       "index                                                      \n",
       "6549   [DET, NUM, PUNCT, ADJ, NOUN, ADP, ADJ, NOUN, A...   \n",
       "11060                                            [PROPN]   \n",
       "5743   [DET, NUM, PUNCT, ADJ, NOUN, VERB, ADP, DET, N...   \n",
       "13197  [DET, NUM, NOUN, ADJ, NOUN, AUX, AUX, VERB, AD...   \n",
       "\n",
       "                                               textToken  \n",
       "index                                                     \n",
       "6549   [a, 55-year, -, old, woman, with, multiple, sc...  \n",
       "11060                                              [nan]  \n",
       "5743   [a, 40-year, -, old, woman, presents, with, a,...  \n",
       "13197  [a, 63, year, old, woman, has, been, referred,...  "
      ]
     },
     "execution_count": 6,
     "metadata": {},
     "output_type": "execute_result"
    }
   ],
   "source": [
    "joinedDf.sample(4)"
   ]
  },
  {
   "cell_type": "code",
   "execution_count": 7,
   "metadata": {},
   "outputs": [],
   "source": [
    "stopWordsList = [\n",
    "    'answer','comments','presents','mmoll',\n",
    "    'year','old','x','l','also','reveals','following',\n",
    "    'likely','would', 'yearold', 'examination', 'history', \n",
    "    'patient', 'may', 'patients', 'disease', \n",
    "    'associated','%', 'pain', 'diagnosis', 'g', '/L', '.', 'Part','symptoms','risk',\n",
    "    'loss','years', 'X', 'L','-'\n",
    "] "
   ]
  },
  {
   "cell_type": "code",
   "execution_count": 8,
   "metadata": {},
   "outputs": [],
   "source": [
    "# first isolate only nouns and only if they are not in the stopWords list created at the end of the notebook\n",
    "joinedDf['textNoun'] = joinedDf.apply(\n",
    "    lambda x: ' '.join(\n",
    "        [word for word, pos in zip(x['textLemma'],x['textPos']) if pos=='NOUN' and word not in stopWordsList]\n",
    "    ), axis=1\n",
    ")"
   ]
  },
  {
   "cell_type": "code",
   "execution_count": 9,
   "metadata": {},
   "outputs": [
    {
     "name": "stdout",
     "output_type": "stream",
     "text": [
      "initial length 14186\n",
      "length after removing duplicates and Nones 11866\n"
     ]
    }
   ],
   "source": [
    "print('initial length', len(joinedDf))\n",
    "# remove duplicates\n",
    "joinedDf = joinedDf.drop_duplicates(subset=\n",
    "    ['text', 'topic']\n",
    ")\n",
    "\n",
    "#remove Nan values\n",
    "joinedDf = joinedDf[joinedDf.text.notna()]\n",
    "\n",
    "print('length after removing duplicates and Nones', len(joinedDf))"
   ]
  },
  {
   "cell_type": "code",
   "execution_count": 10,
   "metadata": {},
   "outputs": [
    {
     "data": {
      "text/plain": [
       "text         0\n",
       "topic        0\n",
       "textLemma    0\n",
       "textPos      0\n",
       "textToken    0\n",
       "textNoun     0\n",
       "dtype: int64"
      ]
     },
     "execution_count": 10,
     "metadata": {},
     "output_type": "execute_result"
    }
   ],
   "source": [
    "joinedDf.isnull().sum(axis = 0) # check no null values exist"
   ]
  },
  {
   "cell_type": "code",
   "execution_count": 11,
   "metadata": {},
   "outputs": [
    {
     "data": {
      "text/html": [
       "<div>\n",
       "<style scoped>\n",
       "    .dataframe tbody tr th:only-of-type {\n",
       "        vertical-align: middle;\n",
       "    }\n",
       "\n",
       "    .dataframe tbody tr th {\n",
       "        vertical-align: top;\n",
       "    }\n",
       "\n",
       "    .dataframe thead th {\n",
       "        text-align: right;\n",
       "    }\n",
       "</style>\n",
       "<table border=\"1\" class=\"dataframe\">\n",
       "  <thead>\n",
       "    <tr style=\"text-align: right;\">\n",
       "      <th></th>\n",
       "      <th>text</th>\n",
       "      <th>topic</th>\n",
       "      <th>textLemma</th>\n",
       "      <th>textPos</th>\n",
       "      <th>textToken</th>\n",
       "      <th>textNoun</th>\n",
       "    </tr>\n",
       "    <tr>\n",
       "      <th>index</th>\n",
       "      <th></th>\n",
       "      <th></th>\n",
       "      <th></th>\n",
       "      <th></th>\n",
       "      <th></th>\n",
       "      <th></th>\n",
       "    </tr>\n",
       "  </thead>\n",
       "  <tbody>\n",
       "    <tr>\n",
       "      <td>4653</td>\n",
       "      <td>a 39-year-old woman comes to the clinic compla...</td>\n",
       "      <td>Endocrinology</td>\n",
       "      <td>[a, 39-year, -, old, woman, come, to, the, cli...</td>\n",
       "      <td>[DET, NUM, PUNCT, ADJ, NOUN, VERB, ADP, DET, N...</td>\n",
       "      <td>[a, 39-year, -, old, woman, comes, to, the, cl...</td>\n",
       "      <td>woman clinic complaining hairiness problem acn...</td>\n",
       "    </tr>\n",
       "    <tr>\n",
       "      <td>8541</td>\n",
       "      <td>a 44-year-old pharmacist presents with a histo...</td>\n",
       "      <td>Basic Science</td>\n",
       "      <td>[a, 44-year, -, old, pharmacist, present, with...</td>\n",
       "      <td>[DET, NUM, PUNCT, ADJ, ADJ, NOUN, ADP, DET, NO...</td>\n",
       "      <td>[a, 44-year, -, old, pharmacist, presents, wit...</td>\n",
       "      <td>present episode faintness sweating tremor morn...</td>\n",
       "    </tr>\n",
       "    <tr>\n",
       "      <td>17053</td>\n",
       "      <td>a 32-year-old afro-caribbean man with a 5-year...</td>\n",
       "      <td>Past paper</td>\n",
       "      <td>[a, 32-year, -, old, afro, -, caribbean, man, ...</td>\n",
       "      <td>[DET, NUM, PUNCT, ADJ, NOUN, PUNCT, ADJ, NOUN,...</td>\n",
       "      <td>[a, 32-year, -, old, afro, -, caribbean, man, ...</td>\n",
       "      <td>afro man infection present ankle therapy respo...</td>\n",
       "    </tr>\n",
       "  </tbody>\n",
       "</table>\n",
       "</div>"
      ],
      "text/plain": [
       "                                                    text          topic  \\\n",
       "index                                                                     \n",
       "4653   a 39-year-old woman comes to the clinic compla...  Endocrinology   \n",
       "8541   a 44-year-old pharmacist presents with a histo...  Basic Science   \n",
       "17053  a 32-year-old afro-caribbean man with a 5-year...     Past paper   \n",
       "\n",
       "                                               textLemma  \\\n",
       "index                                                      \n",
       "4653   [a, 39-year, -, old, woman, come, to, the, cli...   \n",
       "8541   [a, 44-year, -, old, pharmacist, present, with...   \n",
       "17053  [a, 32-year, -, old, afro, -, caribbean, man, ...   \n",
       "\n",
       "                                                 textPos  \\\n",
       "index                                                      \n",
       "4653   [DET, NUM, PUNCT, ADJ, NOUN, VERB, ADP, DET, N...   \n",
       "8541   [DET, NUM, PUNCT, ADJ, ADJ, NOUN, ADP, DET, NO...   \n",
       "17053  [DET, NUM, PUNCT, ADJ, NOUN, PUNCT, ADJ, NOUN,...   \n",
       "\n",
       "                                               textToken  \\\n",
       "index                                                      \n",
       "4653   [a, 39-year, -, old, woman, comes, to, the, cl...   \n",
       "8541   [a, 44-year, -, old, pharmacist, presents, wit...   \n",
       "17053  [a, 32-year, -, old, afro, -, caribbean, man, ...   \n",
       "\n",
       "                                                textNoun  \n",
       "index                                                     \n",
       "4653   woman clinic complaining hairiness problem acn...  \n",
       "8541   present episode faintness sweating tremor morn...  \n",
       "17053  afro man infection present ankle therapy respo...  "
      ]
     },
     "execution_count": 11,
     "metadata": {},
     "output_type": "execute_result"
    }
   ],
   "source": [
    "joinedDf.sample(3)"
   ]
  },
  {
   "cell_type": "code",
   "execution_count": 12,
   "metadata": {},
   "outputs": [],
   "source": [
    "joinedDf.to_csv('../data/only-nouns-data.csv')"
   ]
  },
  {
   "cell_type": "code",
   "execution_count": null,
   "metadata": {},
   "outputs": [],
   "source": []
  },
  {
   "cell_type": "code",
   "execution_count": null,
   "metadata": {},
   "outputs": [],
   "source": []
  },
  {
   "cell_type": "code",
   "execution_count": null,
   "metadata": {},
   "outputs": [],
   "source": []
  },
  {
   "cell_type": "code",
   "execution_count": null,
   "metadata": {},
   "outputs": [],
   "source": []
  },
  {
   "cell_type": "code",
   "execution_count": null,
   "metadata": {},
   "outputs": [],
   "source": []
  },
  {
   "cell_type": "code",
   "execution_count": null,
   "metadata": {},
   "outputs": [],
   "source": []
  },
  {
   "cell_type": "code",
   "execution_count": null,
   "metadata": {},
   "outputs": [],
   "source": []
  },
  {
   "cell_type": "code",
   "execution_count": null,
   "metadata": {},
   "outputs": [],
   "source": []
  },
  {
   "cell_type": "code",
   "execution_count": null,
   "metadata": {},
   "outputs": [],
   "source": []
  },
  {
   "cell_type": "code",
   "execution_count": null,
   "metadata": {},
   "outputs": [],
   "source": []
  },
  {
   "cell_type": "code",
   "execution_count": null,
   "metadata": {},
   "outputs": [],
   "source": []
  },
  {
   "cell_type": "code",
   "execution_count": null,
   "metadata": {},
   "outputs": [],
   "source": []
  },
  {
   "cell_type": "code",
   "execution_count": null,
   "metadata": {},
   "outputs": [],
   "source": []
  },
  {
   "cell_type": "code",
   "execution_count": null,
   "metadata": {},
   "outputs": [],
   "source": []
  },
  {
   "cell_type": "code",
   "execution_count": null,
   "metadata": {},
   "outputs": [],
   "source": []
  },
  {
   "cell_type": "code",
   "execution_count": null,
   "metadata": {},
   "outputs": [],
   "source": []
  },
  {
   "cell_type": "code",
   "execution_count": null,
   "metadata": {},
   "outputs": [],
   "source": []
  },
  {
   "cell_type": "code",
   "execution_count": null,
   "metadata": {},
   "outputs": [],
   "source": []
  },
  {
   "cell_type": "code",
   "execution_count": null,
   "metadata": {},
   "outputs": [],
   "source": []
  },
  {
   "cell_type": "code",
   "execution_count": null,
   "metadata": {},
   "outputs": [],
   "source": []
  },
  {
   "cell_type": "code",
   "execution_count": null,
   "metadata": {},
   "outputs": [],
   "source": []
  },
  {
   "cell_type": "markdown",
   "metadata": {},
   "source": [
    "## Populating stop words list"
   ]
  },
  {
   "cell_type": "code",
   "execution_count": 13,
   "metadata": {},
   "outputs": [],
   "source": [
    "stopWordsList = [\n",
    "    'answer','comments','presents','mmoll',\n",
    "    'year','old','x','l','also','reveals','following',\n",
    "    'likely','would', 'yearold', 'examination', 'history', \n",
    "    'patient', 'may', 'patients', 'disease', \n",
    "    'associated','%', 'pain', 'diagnosis', 'g', '/L', '.', 'Part','symptoms','risk',\n",
    "    'loss','years', 'X', 'L','-'\n",
    "] "
   ]
  },
  {
   "cell_type": "code",
   "execution_count": 14,
   "metadata": {
    "scrolled": false
   },
   "outputs": [
    {
     "data": {
      "image/png": "[encoded data removed]",
      "text/plain": [
       "<Figure size 1440x288 with 1 Axes>"
      ]
     },
     "metadata": {
      "needs_background": "light"
     },
     "output_type": "display_data"
    }
   ],
   "source": [
    "allNounsTokenised = word_tokenize(' '.join(joinedDf.textNoun))\n",
    "allNounsTokenised = [word for word in allNounsTokenised if word not in stopWordsList]\n",
    "fdist = FreqDist(allNounsTokenised)\n",
    "plt.figure(figsize=(20,4))\n",
    "plt.title('Nouns frequency distribution')\n",
    "fdist.plot(100, cumulative=False)\n",
    "plt.show()"
   ]
  },
  {
   "cell_type": "code",
   "execution_count": null,
   "metadata": {},
   "outputs": [],
   "source": []
  },
  {
   "cell_type": "code",
   "execution_count": null,
   "metadata": {},
   "outputs": [],
   "source": []
  },
  {
   "cell_type": "code",
   "execution_count": null,
   "metadata": {},
   "outputs": [],
   "source": []
  }
 ],
 "metadata": {
  "kernelspec": {
   "display_name": "Python 3",
   "language": "python",
   "name": "python3"
  },
  "language_info": {
   "codemirror_mode": {
    "name": "ipython",
    "version": 3
   },
   "file_extension": ".py",
   "mimetype": "text/x-python",
   "name": "python",
   "nbconvert_exporter": "python",
   "pygments_lexer": "ipython3",
   "version": "3.7.4"
  }
 },
 "nbformat": 4,
 "nbformat_minor": 2
}

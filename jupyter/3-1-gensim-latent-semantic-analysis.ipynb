{
 "cells": [
  {
   "cell_type": "markdown",
   "metadata": {},
   "source": [
    "# latent semantic analysis\n",
    "\n",
    "- find synonyms and reduce the dimensionality of the problem\n",
    "- may need to perfom stemming in 2-tokenisation step"
   ]
  },
  {
   "cell_type": "code",
   "execution_count": null,
   "metadata": {},
   "outputs": [],
   "source": []
  },
  {
   "cell_type": "markdown",
   "metadata": {},
   "source": [
    "# Load Data"
   ]
  },
  {
   "cell_type": "code",
   "execution_count": 23,
   "metadata": {},
   "outputs": [],
   "source": [
    "import ast\n",
    "import pandas as pd\n",
    "# load tokenized data\n",
    "\n",
    "allData = pd.read_csv('../data/tokenized-data.csv', index_col='index')"
   ]
  },
  {
   "cell_type": "code",
   "execution_count": 24,
   "metadata": {},
   "outputs": [
    {
     "data": {
      "text/html": [
       "<div>\n",
       "<style scoped>\n",
       "    .dataframe tbody tr th:only-of-type {\n",
       "        vertical-align: middle;\n",
       "    }\n",
       "\n",
       "    .dataframe tbody tr th {\n",
       "        vertical-align: top;\n",
       "    }\n",
       "\n",
       "    .dataframe thead th {\n",
       "        text-align: right;\n",
       "    }\n",
       "</style>\n",
       "<table border=\"1\" class=\"dataframe\">\n",
       "  <thead>\n",
       "    <tr style=\"text-align: right;\">\n",
       "      <th></th>\n",
       "      <th>questionDescription</th>\n",
       "      <th>question</th>\n",
       "      <th>qTopic</th>\n",
       "      <th>answerDescription</th>\n",
       "      <th>option1</th>\n",
       "      <th>option2</th>\n",
       "      <th>option3</th>\n",
       "      <th>option4</th>\n",
       "      <th>option5</th>\n",
       "    </tr>\n",
       "    <tr>\n",
       "      <th>index</th>\n",
       "      <th></th>\n",
       "      <th></th>\n",
       "      <th></th>\n",
       "      <th></th>\n",
       "      <th></th>\n",
       "      <th></th>\n",
       "      <th></th>\n",
       "      <th></th>\n",
       "      <th></th>\n",
       "    </tr>\n",
       "  </thead>\n",
       "  <tbody>\n",
       "    <tr>\n",
       "      <td>4729</td>\n",
       "      <td>[male, polyuria, polydipsia]</td>\n",
       "      <td>[confirm, diagnosis, diabetes, mellitus]</td>\n",
       "      <td>[endocrinology]</td>\n",
       "      <td>[fasting, plasma, glucose, diagnosis, usually,...</td>\n",
       "      <td>[fasting, plasma, glucose]</td>\n",
       "      <td>[finding, ketonuria]</td>\n",
       "      <td>[hbac]</td>\n",
       "      <td>[plasma, glucose, two, hours, grams, oral, glu...</td>\n",
       "      <td>[random, plasma, glucose]</td>\n",
       "    </tr>\n",
       "    <tr>\n",
       "      <td>7378</td>\n",
       "      <td>[man, known, suffer, alcoholinduced, liver, gi...</td>\n",
       "      <td>[investigations, might, best, establish, diagn...</td>\n",
       "      <td>[dermatology]</td>\n",
       "      <td>[plasma, urinary, uroporphyrins, porphyria, cu...</td>\n",
       "      <td>[liver, biopsy]</td>\n",
       "      <td>[plasma, urinary, uroporphyrins]</td>\n",
       "      <td>[ct, scan, liver]</td>\n",
       "      <td>[liver, function, tests]</td>\n",
       "      <td>[skin, biopsy]</td>\n",
       "    </tr>\n",
       "    <tr>\n",
       "      <td>10366</td>\n",
       "      <td>[man, type, diabetes, found, elevated, plasma,...</td>\n",
       "      <td>[cause, renal, impairment]</td>\n",
       "      <td>[nephrology]</td>\n",
       "      <td>[atherosclerotic, renal, artery, stenosis, des...</td>\n",
       "      <td>[cholesterol, emboli]</td>\n",
       "      <td>[diabetic, glomerulosclerosis]</td>\n",
       "      <td>[membranous, nephropathy]</td>\n",
       "      <td>[reflux, nephropathy]</td>\n",
       "      <td>[atherosclerotic, renal, artery, stenosis]</td>\n",
       "    </tr>\n",
       "  </tbody>\n",
       "</table>\n",
       "</div>"
      ],
      "text/plain": [
       "                                     questionDescription  \\\n",
       "index                                                      \n",
       "4729                        [male, polyuria, polydipsia]   \n",
       "7378   [man, known, suffer, alcoholinduced, liver, gi...   \n",
       "10366  [man, type, diabetes, found, elevated, plasma,...   \n",
       "\n",
       "                                                question           qTopic  \\\n",
       "index                                                                       \n",
       "4729            [confirm, diagnosis, diabetes, mellitus]  [endocrinology]   \n",
       "7378   [investigations, might, best, establish, diagn...    [dermatology]   \n",
       "10366                         [cause, renal, impairment]     [nephrology]   \n",
       "\n",
       "                                       answerDescription  \\\n",
       "index                                                      \n",
       "4729   [fasting, plasma, glucose, diagnosis, usually,...   \n",
       "7378   [plasma, urinary, uroporphyrins, porphyria, cu...   \n",
       "10366  [atherosclerotic, renal, artery, stenosis, des...   \n",
       "\n",
       "                          option1                           option2  \\\n",
       "index                                                                 \n",
       "4729   [fasting, plasma, glucose]              [finding, ketonuria]   \n",
       "7378              [liver, biopsy]  [plasma, urinary, uroporphyrins]   \n",
       "10366       [cholesterol, emboli]    [diabetic, glomerulosclerosis]   \n",
       "\n",
       "                         option3  \\\n",
       "index                              \n",
       "4729                      [hbac]   \n",
       "7378           [ct, scan, liver]   \n",
       "10366  [membranous, nephropathy]   \n",
       "\n",
       "                                                 option4  \\\n",
       "index                                                      \n",
       "4729   [plasma, glucose, two, hours, grams, oral, glu...   \n",
       "7378                            [liver, function, tests]   \n",
       "10366                              [reflux, nephropathy]   \n",
       "\n",
       "                                          option5  \n",
       "index                                              \n",
       "4729                    [random, plasma, glucose]  \n",
       "7378                               [skin, biopsy]  \n",
       "10366  [atherosclerotic, renal, artery, stenosis]  "
      ]
     },
     "execution_count": 24,
     "metadata": {},
     "output_type": "execute_result"
    }
   ],
   "source": [
    "for col in allData.columns.tolist():\n",
    "    allData[col] = allData[col].apply(lambda x: ast.literal_eval(x))\n",
    "\n",
    "allData.sample(3)"
   ]
  },
  {
   "cell_type": "code",
   "execution_count": 28,
   "metadata": {},
   "outputs": [
    {
     "data": {
      "text/plain": [
       "Index(['questionDescription', 'question', 'qTopic', 'answerDescription',\n",
       "       'option1', 'option2', 'option3', 'option4', 'option5'],\n",
       "      dtype='object')"
      ]
     },
     "execution_count": 28,
     "metadata": {},
     "output_type": "execute_result"
    }
   ],
   "source": [
    "allData.columns"
   ]
  },
  {
   "cell_type": "markdown",
   "metadata": {},
   "source": [
    "# Implementing Latent Symantic Analysis using Gensim\n",
    "\n",
    "- following https://www.datacamp.com/community/tutorials/discovering-hidden-topics-python\n",
    "- this tutorial deals with documents in a corpus\n",
    "- for us, our docuemnts are questions and our corpus is our list of questions"
   ]
  },
  {
   "cell_type": "code",
   "execution_count": 27,
   "metadata": {},
   "outputs": [],
   "source": [
    "import os.path\n",
    "from gensim import corpora\n",
    "from gensim.models import LsiModel\n",
    "from nltk.tokenize import RegexpTokenizer\n",
    "from nltk.corpus import stopwords\n",
    "from nltk.stem.porter import PorterStemmer\n",
    "from gensim.models.coherencemodel import CoherenceModel\n",
    "import matplotlib.pyplot as plt"
   ]
  },
  {
   "cell_type": "code",
   "execution_count": 81,
   "metadata": {},
   "outputs": [],
   "source": [
    "def ConvertDataframeToQsList(dataDf):\n",
    "    \"\"\"\n",
    "    Input  : dataframe of qs\n",
    "    Purpose: convert dataframe of qs to list of questions\n",
    "    Output : list of concatenated q's, answers, options etc. corresponding \n",
    "        list of topics too\n",
    "    \"\"\"\n",
    "    # important columns in df include: questionDescription (!=='none'), \n",
    "    #  answerDescription, option1-5\n",
    "    dataDf['text'] = dataDf.apply(lambda x: x['questionDescription']+\n",
    "                                            x['answerDescription']+\n",
    "                                            x['option1']+\n",
    "                                            x['option2']+\n",
    "                                            x['option3']+\n",
    "                                            x['option4']+\n",
    "                                            x['option5']\n",
    "                                                     , axis=1) \n",
    "    listOfQs = dataDf.text.tolist()\n",
    "    listOfTopics = dataDf.qTopic.tolist()\n",
    "    \n",
    "    return listOfQs, listOfTopics\n",
    "    \n",
    "    \n",
    "    \n",
    "def prepare_corpus(doc_clean):\n",
    "    \"\"\"\n",
    "    Input  : clean document\n",
    "    Purpose: create term dictionary of our list of q's and Converting \n",
    "        list of q's (corpus) into Document Term Matrix\n",
    "    Output : term dictionary and Document Term Matrix\n",
    "    \"\"\"\n",
    "    # Creating the term dictionary of our courpus, where every unique \n",
    "    #  term is assigned an index. dictionary = corpora.Dictionary(doc_clean)\n",
    "    dictionary = corpora.Dictionary(doc_clean)\n",
    "    print(dictionary)\n",
    "    # Converting list of documents (corpus) into Document Term Matrix using \n",
    "    #  dictionary prepared above.\n",
    "    doc_term_matrix = [dictionary.doc2bow(doc) for doc in doc_clean]\n",
    "    # generate LDA model\n",
    "    return dictionary,doc_term_matrix\n",
    "\n",
    "def create_gensim_lsa_model(doc_clean,number_of_topics,words):\n",
    "    \"\"\"\n",
    "    Input  : clean document, number of topics and number of words associated with each topic\n",
    "    Purpose: create LSA model using gensim\n",
    "    Output : return LSA model\n",
    "    \"\"\"\n",
    "    dictionary,doc_term_matrix=prepare_corpus(doc_clean)\n",
    "    # generate LSA model\n",
    "    lsamodel = LsiModel(doc_term_matrix, num_topics=number_of_topics, id2word = dictionary)  # train model\n",
    "    print(lsamodel.print_topics(num_topics=number_of_topics, num_words=words))\n",
    "    return lsamodel\n",
    "\n",
    "def compute_coherence_values(dictionary, doc_term_matrix, doc_clean, stop, start=2, step=3):\n",
    "    \"\"\"\n",
    "    Input   : dictionary : Gensim dictionary\n",
    "              corpus : Gensim corpus\n",
    "              texts : List of input texts\n",
    "              stop : Max num of topics\n",
    "    purpose : Compute c_v coherence for various number of topics\n",
    "    Output  : model_list : List of LSA topic models\n",
    "              coherence_values : Coherence values corresponding to the LDA model with respective number of topics\n",
    "    \"\"\"\n",
    "    coherence_values = []\n",
    "    model_list = []\n",
    "    for number_of_topics in range(start, stop, step):\n",
    "        # generate LSA model\n",
    "        print(number_of_topics)\n",
    "        model = LsiModel(doc_term_matrix, num_topics=number_of_topics, id2word = dictionary)  # train model\n",
    "        model_list.append(model)\n",
    "        coherencemodel = CoherenceModel(model=model, texts=doc_clean, dictionary=dictionary, coherence='c_v')\n",
    "        coherence_values.append(coherencemodel.get_coherence())\n",
    "    return model_list, coherence_values\n",
    "\n",
    "def plot_graph(doc_clean,start, stop, step):\n",
    "    dictionary,doc_term_matrix=prepare_corpus(doc_clean)\n",
    "    model_list, coherence_values = compute_coherence_values(dictionary, doc_term_matrix,doc_clean,\n",
    "                                                            stop, start, step)\n",
    "    # Show graph\n",
    "    x = range(start, stop, step)\n",
    "    plt.plot(x, coherence_values)\n",
    "    plt.xlabel(\"Number of Topics\")\n",
    "    plt.ylabel(\"Coherence score\")\n",
    "    plt.legend((\"coherence_values\"), loc='best')\n",
    "    plt.show()\n",
    "    \n"
   ]
  },
  {
   "cell_type": "code",
   "execution_count": 82,
   "metadata": {},
   "outputs": [],
   "source": [
    "qs, topics=ConvertDataframeToQsList(allData)"
   ]
  },
  {
   "cell_type": "code",
   "execution_count": 83,
   "metadata": {},
   "outputs": [
    {
     "name": "stdout",
     "output_type": "stream",
     "text": [
      "Dictionary(32884 unique tokens: ['acute', 'campylobacter', 'cause', 'cefuroxime', 'ciprofloxacin']...)\n",
      "2\n",
      "4\n",
      "6\n",
      "8\n",
      "10\n",
      "12\n",
      "14\n",
      "16\n",
      "18\n",
      "20\n",
      "22\n",
      "24\n"
     ]
    },
    {
     "data": {
      "image/png": "[encoded data removed]",
      "text/plain": [
       "<Figure size 432x288 with 1 Axes>"
      ]
     },
     "metadata": {
      "needs_background": "light"
     },
     "output_type": "display_data"
    }
   ],
   "source": [
    "start,stop,step=2,25,2\n",
    "plot_graph(qs,start,stop,step)"
   ]
  },
  {
   "cell_type": "code",
   "execution_count": 85,
   "metadata": {},
   "outputs": [
    {
     "name": "stdout",
     "output_type": "stream",
     "text": [
      "Dictionary(32884 unique tokens: ['acute', 'campylobacter', 'cause', 'cefuroxime', 'ciprofloxacin']...)\n",
      "[(0, '0.230*\"blood\" + 0.198*\"part\" + 0.185*\"normal\" + 0.155*\"renal\" + 0.141*\"treatment\" + 0.139*\"pain\" + 0.124*\"diagnosis\" + 0.121*\"man\" + 0.118*\"acute\" + 0.115*\"symptoms\"'), (1, '0.364*\"left\" + 0.339*\"right\" + 0.248*\"nerve\" + -0.214*\"renal\" + -0.214*\"blood\" + 0.206*\"pain\" + 0.174*\"artery\" + -0.134*\"serum\" + 0.118*\"weakness\" + -0.117*\"glucose\"'), (2, '-0.230*\"arthritis\" + 0.216*\"left\" + 0.198*\"mg\" + 0.177*\"pressure\" + 0.168*\"risk\" + -0.168*\"infection\" + 0.164*\"heart\" + -0.140*\"rheumatoid\" + 0.139*\"blood\" + 0.136*\"diabetes\"'), (3, '-0.615*\"renal\" + 0.186*\"test\" + -0.177*\"failure\" + 0.175*\"glucose\" + 0.174*\"treatment\" + 0.140*\"risk\" + 0.131*\"insulin\" + -0.128*\"left\" + -0.123*\"hypertension\" + -0.123*\"blood\"'), (4, '0.235*\"glucose\" + 0.228*\"normal\" + 0.217*\"nerve\" + 0.199*\"serum\" + -0.198*\"treatment\" + 0.171*\"diabetes\" + -0.167*\"pulmonary\" + 0.158*\"insulin\" + -0.157*\"chest\" + -0.152*\"infection\"'), (5, '0.473*\"blood\" + -0.326*\"renal\" + -0.181*\"risk\" + -0.179*\"diabetes\" + 0.176*\"cell\" + 0.169*\"anaemia\" + -0.169*\"treatment\" + 0.163*\"count\" + -0.157*\"type\" + 0.154*\"cells\"')]\n"
     ]
    }
   ],
   "source": [
    "# LSA Model\n",
    "number_of_topics=6\n",
    "words=10\n",
    "model=create_gensim_lsa_model(qs,number_of_topics,words)"
   ]
  },
  {
   "cell_type": "code",
   "execution_count": 89,
   "metadata": {},
   "outputs": [
    {
     "data": {
      "text/plain": [
       "<bound method LsiModel.get_topics of <gensim.models.lsimodel.LsiModel object at 0x000002404534ED48>>"
      ]
     },
     "execution_count": 89,
     "metadata": {},
     "output_type": "execute_result"
    }
   ],
   "source": [
    "model[]"
   ]
  },
  {
   "cell_type": "code",
   "execution_count": null,
   "metadata": {},
   "outputs": [],
   "source": []
  }
 ],
 "metadata": {
  "kernelspec": {
   "display_name": "Python 3",
   "language": "python",
   "name": "python3"
  },
  "language_info": {
   "codemirror_mode": {
    "name": "ipython",
    "version": 3
   },
   "file_extension": ".py",
   "mimetype": "text/x-python",
   "name": "python",
   "nbconvert_exporter": "python",
   "pygments_lexer": "ipython3",
   "version": "3.7.4"
  }
 },
 "nbformat": 4,
 "nbformat_minor": 2
}
